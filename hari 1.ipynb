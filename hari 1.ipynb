{
  "nbformat": 4,
  "nbformat_minor": 0,
  "metadata": {
    "colab": {
      "name": "Untitled0.ipynb",
      "provenance": [],
      "authorship_tag": "ABX9TyNlILb9BmxkMi3JIccGkyDm",
      "include_colab_link": true
    },
    "kernelspec": {
      "name": "python3",
      "display_name": "Python 3"
    },
    "language_info": {
      "name": "python"
    }
  },
  "cells": [
    {
      "cell_type": "markdown",
      "metadata": {
        "id": "view-in-github",
        "colab_type": "text"
      },
      "source": [
        "<a href=\"https://colab.research.google.com/github/Fahrizal20022016/Fahrizal-Project/blob/main/hari%201.ipynb\" target=\"_parent\"><img src=\"https://colab.research.google.com/assets/colab-badge.svg\" alt=\"Open In Colab\"/></a>"
      ]
    },
    {
      "cell_type": "code",
      "metadata": {
        "id": "JUTWEeQLIqEr"
      },
      "source": [
        "import statistics\n",
        "import pandas as pd\n",
        "import statistics"
      ],
      "execution_count": 29,
      "outputs": []
    },
    {
      "cell_type": "code",
      "metadata": {
        "id": "Dd7V9krnIvzC"
      },
      "source": [
        "sample = [70, 77, 69, 65, 70, 75, 60, 60, 70, 65, 70, 60, 65, 70, 65, 80, 77, 70, 60, 65, 60, 85, 65, 70, 65, 80, 77, 69, 65, 70]"
      ],
      "execution_count": 7,
      "outputs": []
    },
    {
      "cell_type": "code",
      "metadata": {
        "colab": {
          "base_uri": "https://localhost:8080/"
        },
        "id": "tfNKIZfOJt80",
        "outputId": "3f907ff2-2e7f-4454-bde9-cd8128ff1a09"
      },
      "source": [
        "ratarata = statistics.mean(sample)\n",
        "print(ratarata)"
      ],
      "execution_count": 11,
      "outputs": [
        {
          "output_type": "stream",
          "name": "stdout",
          "text": [
            "69.06666666666666\n"
          ]
        }
      ]
    },
    {
      "cell_type": "code",
      "metadata": {
        "id": "g-v_9ZSRQPaL"
      },
      "source": [
        "list_varian = []\n",
        "for bilangan in sample:\n",
        "  list_varian.append(\n",
        "      (bilangan - ratarata) ** 2\n",
        "  )\n",
        "  varian = sum(list_varian)/ (len(sample) - 1)"
      ],
      "execution_count": 22,
      "outputs": []
    },
    {
      "cell_type": "code",
      "metadata": {
        "colab": {
          "base_uri": "https://localhost:8080/"
        },
        "id": "SvcnZ2xGScUl",
        "outputId": "645b267a-df2f-4203-8f93-a0f87606ceb2"
      },
      "source": [
        "print(varian)"
      ],
      "execution_count": 24,
      "outputs": [
        {
          "output_type": "stream",
          "name": "stdout",
          "text": [
            "45.236781609195404\n"
          ]
        }
      ]
    },
    {
      "cell_type": "code",
      "metadata": {
        "colab": {
          "base_uri": "https://localhost:8080/"
        },
        "id": "gIGFAvVcTdXe",
        "outputId": "fd637f69-c583-4f31-85d6-d9933c823ddc"
      },
      "source": [
        "standarDeviasi = statistics.stdev(sample)\n",
        "print(f'data \\t\\t -> {sample}')\n",
        "print(f'standar deviasi \\t -> {standarDeviasi}')"
      ],
      "execution_count": 28,
      "outputs": [
        {
          "output_type": "stream",
          "name": "stdout",
          "text": [
            "data \t\t -> [70, 77, 69, 65, 78, 60, 70, 60, 70, 65, 70, 60, 65, 70, 65, 80, 77, 70, 60, 65, 60, 85, 65, 70, 65, 80, 77, 69, 65, 70]\n",
            "standar deviasi \t -> 6.7258294365227105\n"
          ]
        }
      ]
    }
  ]
}